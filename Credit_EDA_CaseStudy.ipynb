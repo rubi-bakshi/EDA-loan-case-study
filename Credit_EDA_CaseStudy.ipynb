{
 "cells": [
  {
   "cell_type": "markdown",
   "id": "7eb3e699",
   "metadata": {},
   "source": [
    "#### Problem Statement : \n",
    "Understand how the bank approves and refuses loan. Find out different patterns and represent the outcomes to help the bank reduce the credit risk and interest risk."
   ]
  },
  {
   "cell_type": "code",
   "execution_count": 3,
   "id": "ef52061a",
   "metadata": {},
   "outputs": [],
   "source": [
    "#importing warning to remove the warnins\n",
    "import warnings\n",
    "warnings.filterwarnings('ignore')"
   ]
  },
  {
   "cell_type": "code",
   "execution_count": 4,
   "id": "438893de",
   "metadata": {},
   "outputs": [],
   "source": [
    "# importing the required libraries\n",
    "\n",
    "import numpy as np\n",
    "import pandas as pd\n",
    "import seaborn as sns\n",
    "import matplotlib.pyplot as plt"
   ]
  },
  {
   "cell_type": "markdown",
   "id": "b9954896",
   "metadata": {},
   "source": [
    "Working on Current Application"
   ]
  },
  {
   "cell_type": "code",
   "execution_count": 5,
   "id": "e23692d1",
   "metadata": {},
   "outputs": [],
   "source": [
    "#reading the application_data \n",
    "current_application_data = pd.read_csv('application_data.csv')"
   ]
  },
  {
   "cell_type": "code",
   "execution_count": 6,
   "id": "55fa9e37",
   "metadata": {},
   "outputs": [
    {
     "data": {
      "text/html": [
       "<div>\n",
       "<style scoped>\n",
       "    .dataframe tbody tr th:only-of-type {\n",
       "        vertical-align: middle;\n",
       "    }\n",
       "\n",
       "    .dataframe tbody tr th {\n",
       "        vertical-align: top;\n",
       "    }\n",
       "\n",
       "    .dataframe thead th {\n",
       "        text-align: right;\n",
       "    }\n",
       "</style>\n",
       "<table border=\"1\" class=\"dataframe\">\n",
       "  <thead>\n",
       "    <tr style=\"text-align: right;\">\n",
       "      <th></th>\n",
       "      <th>SK_ID_CURR</th>\n",
       "      <th>TARGET</th>\n",
       "      <th>NAME_CONTRACT_TYPE</th>\n",
       "      <th>CODE_GENDER</th>\n",
       "      <th>FLAG_OWN_CAR</th>\n",
       "      <th>FLAG_OWN_REALTY</th>\n",
       "      <th>CNT_CHILDREN</th>\n",
       "      <th>AMT_INCOME_TOTAL</th>\n",
       "      <th>AMT_CREDIT</th>\n",
       "      <th>AMT_ANNUITY</th>\n",
       "      <th>...</th>\n",
       "      <th>FLAG_DOCUMENT_18</th>\n",
       "      <th>FLAG_DOCUMENT_19</th>\n",
       "      <th>FLAG_DOCUMENT_20</th>\n",
       "      <th>FLAG_DOCUMENT_21</th>\n",
       "      <th>AMT_REQ_CREDIT_BUREAU_HOUR</th>\n",
       "      <th>AMT_REQ_CREDIT_BUREAU_DAY</th>\n",
       "      <th>AMT_REQ_CREDIT_BUREAU_WEEK</th>\n",
       "      <th>AMT_REQ_CREDIT_BUREAU_MON</th>\n",
       "      <th>AMT_REQ_CREDIT_BUREAU_QRT</th>\n",
       "      <th>AMT_REQ_CREDIT_BUREAU_YEAR</th>\n",
       "    </tr>\n",
       "  </thead>\n",
       "  <tbody>\n",
       "    <tr>\n",
       "      <th>0</th>\n",
       "      <td>100002</td>\n",
       "      <td>1</td>\n",
       "      <td>Cash loans</td>\n",
       "      <td>M</td>\n",
       "      <td>N</td>\n",
       "      <td>Y</td>\n",
       "      <td>0</td>\n",
       "      <td>202500.0</td>\n",
       "      <td>406597.5</td>\n",
       "      <td>24700.5</td>\n",
       "      <td>...</td>\n",
       "      <td>0</td>\n",
       "      <td>0</td>\n",
       "      <td>0</td>\n",
       "      <td>0</td>\n",
       "      <td>0.0</td>\n",
       "      <td>0.0</td>\n",
       "      <td>0.0</td>\n",
       "      <td>0.0</td>\n",
       "      <td>0.0</td>\n",
       "      <td>1.0</td>\n",
       "    </tr>\n",
       "    <tr>\n",
       "      <th>1</th>\n",
       "      <td>100003</td>\n",
       "      <td>0</td>\n",
       "      <td>Cash loans</td>\n",
       "      <td>F</td>\n",
       "      <td>N</td>\n",
       "      <td>N</td>\n",
       "      <td>0</td>\n",
       "      <td>270000.0</td>\n",
       "      <td>1293502.5</td>\n",
       "      <td>35698.5</td>\n",
       "      <td>...</td>\n",
       "      <td>0</td>\n",
       "      <td>0</td>\n",
       "      <td>0</td>\n",
       "      <td>0</td>\n",
       "      <td>0.0</td>\n",
       "      <td>0.0</td>\n",
       "      <td>0.0</td>\n",
       "      <td>0.0</td>\n",
       "      <td>0.0</td>\n",
       "      <td>0.0</td>\n",
       "    </tr>\n",
       "    <tr>\n",
       "      <th>2</th>\n",
       "      <td>100004</td>\n",
       "      <td>0</td>\n",
       "      <td>Revolving loans</td>\n",
       "      <td>M</td>\n",
       "      <td>Y</td>\n",
       "      <td>Y</td>\n",
       "      <td>0</td>\n",
       "      <td>67500.0</td>\n",
       "      <td>135000.0</td>\n",
       "      <td>6750.0</td>\n",
       "      <td>...</td>\n",
       "      <td>0</td>\n",
       "      <td>0</td>\n",
       "      <td>0</td>\n",
       "      <td>0</td>\n",
       "      <td>0.0</td>\n",
       "      <td>0.0</td>\n",
       "      <td>0.0</td>\n",
       "      <td>0.0</td>\n",
       "      <td>0.0</td>\n",
       "      <td>0.0</td>\n",
       "    </tr>\n",
       "    <tr>\n",
       "      <th>3</th>\n",
       "      <td>100006</td>\n",
       "      <td>0</td>\n",
       "      <td>Cash loans</td>\n",
       "      <td>F</td>\n",
       "      <td>N</td>\n",
       "      <td>Y</td>\n",
       "      <td>0</td>\n",
       "      <td>135000.0</td>\n",
       "      <td>312682.5</td>\n",
       "      <td>29686.5</td>\n",
       "      <td>...</td>\n",
       "      <td>0</td>\n",
       "      <td>0</td>\n",
       "      <td>0</td>\n",
       "      <td>0</td>\n",
       "      <td>NaN</td>\n",
       "      <td>NaN</td>\n",
       "      <td>NaN</td>\n",
       "      <td>NaN</td>\n",
       "      <td>NaN</td>\n",
       "      <td>NaN</td>\n",
       "    </tr>\n",
       "    <tr>\n",
       "      <th>4</th>\n",
       "      <td>100007</td>\n",
       "      <td>0</td>\n",
       "      <td>Cash loans</td>\n",
       "      <td>M</td>\n",
       "      <td>N</td>\n",
       "      <td>Y</td>\n",
       "      <td>0</td>\n",
       "      <td>121500.0</td>\n",
       "      <td>513000.0</td>\n",
       "      <td>21865.5</td>\n",
       "      <td>...</td>\n",
       "      <td>0</td>\n",
       "      <td>0</td>\n",
       "      <td>0</td>\n",
       "      <td>0</td>\n",
       "      <td>0.0</td>\n",
       "      <td>0.0</td>\n",
       "      <td>0.0</td>\n",
       "      <td>0.0</td>\n",
       "      <td>0.0</td>\n",
       "      <td>0.0</td>\n",
       "    </tr>\n",
       "    <tr>\n",
       "      <th>5</th>\n",
       "      <td>100008</td>\n",
       "      <td>0</td>\n",
       "      <td>Cash loans</td>\n",
       "      <td>M</td>\n",
       "      <td>N</td>\n",
       "      <td>Y</td>\n",
       "      <td>0</td>\n",
       "      <td>99000.0</td>\n",
       "      <td>490495.5</td>\n",
       "      <td>27517.5</td>\n",
       "      <td>...</td>\n",
       "      <td>0</td>\n",
       "      <td>0</td>\n",
       "      <td>0</td>\n",
       "      <td>0</td>\n",
       "      <td>0.0</td>\n",
       "      <td>0.0</td>\n",
       "      <td>0.0</td>\n",
       "      <td>0.0</td>\n",
       "      <td>1.0</td>\n",
       "      <td>1.0</td>\n",
       "    </tr>\n",
       "    <tr>\n",
       "      <th>6</th>\n",
       "      <td>100009</td>\n",
       "      <td>0</td>\n",
       "      <td>Cash loans</td>\n",
       "      <td>F</td>\n",
       "      <td>Y</td>\n",
       "      <td>Y</td>\n",
       "      <td>1</td>\n",
       "      <td>171000.0</td>\n",
       "      <td>1560726.0</td>\n",
       "      <td>41301.0</td>\n",
       "      <td>...</td>\n",
       "      <td>0</td>\n",
       "      <td>0</td>\n",
       "      <td>0</td>\n",
       "      <td>0</td>\n",
       "      <td>0.0</td>\n",
       "      <td>0.0</td>\n",
       "      <td>0.0</td>\n",
       "      <td>1.0</td>\n",
       "      <td>1.0</td>\n",
       "      <td>2.0</td>\n",
       "    </tr>\n",
       "    <tr>\n",
       "      <th>7</th>\n",
       "      <td>100010</td>\n",
       "      <td>0</td>\n",
       "      <td>Cash loans</td>\n",
       "      <td>M</td>\n",
       "      <td>Y</td>\n",
       "      <td>Y</td>\n",
       "      <td>0</td>\n",
       "      <td>360000.0</td>\n",
       "      <td>1530000.0</td>\n",
       "      <td>42075.0</td>\n",
       "      <td>...</td>\n",
       "      <td>0</td>\n",
       "      <td>0</td>\n",
       "      <td>0</td>\n",
       "      <td>0</td>\n",
       "      <td>0.0</td>\n",
       "      <td>0.0</td>\n",
       "      <td>0.0</td>\n",
       "      <td>0.0</td>\n",
       "      <td>0.0</td>\n",
       "      <td>0.0</td>\n",
       "    </tr>\n",
       "    <tr>\n",
       "      <th>8</th>\n",
       "      <td>100011</td>\n",
       "      <td>0</td>\n",
       "      <td>Cash loans</td>\n",
       "      <td>F</td>\n",
       "      <td>N</td>\n",
       "      <td>Y</td>\n",
       "      <td>0</td>\n",
       "      <td>112500.0</td>\n",
       "      <td>1019610.0</td>\n",
       "      <td>33826.5</td>\n",
       "      <td>...</td>\n",
       "      <td>0</td>\n",
       "      <td>0</td>\n",
       "      <td>0</td>\n",
       "      <td>0</td>\n",
       "      <td>0.0</td>\n",
       "      <td>0.0</td>\n",
       "      <td>0.0</td>\n",
       "      <td>0.0</td>\n",
       "      <td>0.0</td>\n",
       "      <td>1.0</td>\n",
       "    </tr>\n",
       "    <tr>\n",
       "      <th>9</th>\n",
       "      <td>100012</td>\n",
       "      <td>0</td>\n",
       "      <td>Revolving loans</td>\n",
       "      <td>M</td>\n",
       "      <td>N</td>\n",
       "      <td>Y</td>\n",
       "      <td>0</td>\n",
       "      <td>135000.0</td>\n",
       "      <td>405000.0</td>\n",
       "      <td>20250.0</td>\n",
       "      <td>...</td>\n",
       "      <td>0</td>\n",
       "      <td>0</td>\n",
       "      <td>0</td>\n",
       "      <td>0</td>\n",
       "      <td>NaN</td>\n",
       "      <td>NaN</td>\n",
       "      <td>NaN</td>\n",
       "      <td>NaN</td>\n",
       "      <td>NaN</td>\n",
       "      <td>NaN</td>\n",
       "    </tr>\n",
       "  </tbody>\n",
       "</table>\n",
       "<p>10 rows × 122 columns</p>\n",
       "</div>"
      ],
      "text/plain": [
       "   SK_ID_CURR  TARGET NAME_CONTRACT_TYPE CODE_GENDER FLAG_OWN_CAR  \\\n",
       "0      100002       1         Cash loans           M            N   \n",
       "1      100003       0         Cash loans           F            N   \n",
       "2      100004       0    Revolving loans           M            Y   \n",
       "3      100006       0         Cash loans           F            N   \n",
       "4      100007       0         Cash loans           M            N   \n",
       "5      100008       0         Cash loans           M            N   \n",
       "6      100009       0         Cash loans           F            Y   \n",
       "7      100010       0         Cash loans           M            Y   \n",
       "8      100011       0         Cash loans           F            N   \n",
       "9      100012       0    Revolving loans           M            N   \n",
       "\n",
       "  FLAG_OWN_REALTY  CNT_CHILDREN  AMT_INCOME_TOTAL  AMT_CREDIT  AMT_ANNUITY  \\\n",
       "0               Y             0          202500.0    406597.5      24700.5   \n",
       "1               N             0          270000.0   1293502.5      35698.5   \n",
       "2               Y             0           67500.0    135000.0       6750.0   \n",
       "3               Y             0          135000.0    312682.5      29686.5   \n",
       "4               Y             0          121500.0    513000.0      21865.5   \n",
       "5               Y             0           99000.0    490495.5      27517.5   \n",
       "6               Y             1          171000.0   1560726.0      41301.0   \n",
       "7               Y             0          360000.0   1530000.0      42075.0   \n",
       "8               Y             0          112500.0   1019610.0      33826.5   \n",
       "9               Y             0          135000.0    405000.0      20250.0   \n",
       "\n",
       "   ...  FLAG_DOCUMENT_18 FLAG_DOCUMENT_19 FLAG_DOCUMENT_20 FLAG_DOCUMENT_21  \\\n",
       "0  ...                 0                0                0                0   \n",
       "1  ...                 0                0                0                0   \n",
       "2  ...                 0                0                0                0   \n",
       "3  ...                 0                0                0                0   \n",
       "4  ...                 0                0                0                0   \n",
       "5  ...                 0                0                0                0   \n",
       "6  ...                 0                0                0                0   \n",
       "7  ...                 0                0                0                0   \n",
       "8  ...                 0                0                0                0   \n",
       "9  ...                 0                0                0                0   \n",
       "\n",
       "  AMT_REQ_CREDIT_BUREAU_HOUR AMT_REQ_CREDIT_BUREAU_DAY  \\\n",
       "0                        0.0                       0.0   \n",
       "1                        0.0                       0.0   \n",
       "2                        0.0                       0.0   \n",
       "3                        NaN                       NaN   \n",
       "4                        0.0                       0.0   \n",
       "5                        0.0                       0.0   \n",
       "6                        0.0                       0.0   \n",
       "7                        0.0                       0.0   \n",
       "8                        0.0                       0.0   \n",
       "9                        NaN                       NaN   \n",
       "\n",
       "   AMT_REQ_CREDIT_BUREAU_WEEK  AMT_REQ_CREDIT_BUREAU_MON  \\\n",
       "0                         0.0                        0.0   \n",
       "1                         0.0                        0.0   \n",
       "2                         0.0                        0.0   \n",
       "3                         NaN                        NaN   \n",
       "4                         0.0                        0.0   \n",
       "5                         0.0                        0.0   \n",
       "6                         0.0                        1.0   \n",
       "7                         0.0                        0.0   \n",
       "8                         0.0                        0.0   \n",
       "9                         NaN                        NaN   \n",
       "\n",
       "   AMT_REQ_CREDIT_BUREAU_QRT  AMT_REQ_CREDIT_BUREAU_YEAR  \n",
       "0                        0.0                         1.0  \n",
       "1                        0.0                         0.0  \n",
       "2                        0.0                         0.0  \n",
       "3                        NaN                         NaN  \n",
       "4                        0.0                         0.0  \n",
       "5                        1.0                         1.0  \n",
       "6                        1.0                         2.0  \n",
       "7                        0.0                         0.0  \n",
       "8                        0.0                         1.0  \n",
       "9                        NaN                         NaN  \n",
       "\n",
       "[10 rows x 122 columns]"
      ]
     },
     "execution_count": 6,
     "metadata": {},
     "output_type": "execute_result"
    }
   ],
   "source": [
    "current_application_data.head(10)"
   ]
  },
  {
   "cell_type": "code",
   "execution_count": 7,
   "id": "67735fa8",
   "metadata": {},
   "outputs": [
    {
     "data": {
      "text/plain": [
       "(307511, 122)"
      ]
     },
     "execution_count": 7,
     "metadata": {},
     "output_type": "execute_result"
    }
   ],
   "source": [
    "#Checking number of rows and columns in the current_application_data dataframe\n",
    "current_application_data.shape"
   ]
  },
  {
   "cell_type": "code",
   "execution_count": 11,
   "id": "2d27bbff",
   "metadata": {},
   "outputs": [
    {
     "name": "stdout",
     "output_type": "stream",
     "text": [
      "<class 'pandas.core.frame.DataFrame'>\n",
      "RangeIndex: 307511 entries, 0 to 307510\n",
      "Data columns (total 122 columns):\n",
      " #    Column                        Dtype  \n",
      "---   ------                        -----  \n",
      " 0    SK_ID_CURR                    int64  \n",
      " 1    TARGET                        int64  \n",
      " 2    NAME_CONTRACT_TYPE            object \n",
      " 3    CODE_GENDER                   object \n",
      " 4    FLAG_OWN_CAR                  object \n",
      " 5    FLAG_OWN_REALTY               object \n",
      " 6    CNT_CHILDREN                  int64  \n",
      " 7    AMT_INCOME_TOTAL              float64\n",
      " 8    AMT_CREDIT                    float64\n",
      " 9    AMT_ANNUITY                   float64\n",
      " 10   AMT_GOODS_PRICE               float64\n",
      " 11   NAME_TYPE_SUITE               object \n",
      " 12   NAME_INCOME_TYPE              object \n",
      " 13   NAME_EDUCATION_TYPE           object \n",
      " 14   NAME_FAMILY_STATUS            object \n",
      " 15   NAME_HOUSING_TYPE             object \n",
      " 16   REGION_POPULATION_RELATIVE    float64\n",
      " 17   DAYS_BIRTH                    int64  \n",
      " 18   DAYS_EMPLOYED                 int64  \n",
      " 19   DAYS_REGISTRATION             float64\n",
      " 20   DAYS_ID_PUBLISH               int64  \n",
      " 21   OWN_CAR_AGE                   float64\n",
      " 22   FLAG_MOBIL                    int64  \n",
      " 23   FLAG_EMP_PHONE                int64  \n",
      " 24   FLAG_WORK_PHONE               int64  \n",
      " 25   FLAG_CONT_MOBILE              int64  \n",
      " 26   FLAG_PHONE                    int64  \n",
      " 27   FLAG_EMAIL                    int64  \n",
      " 28   OCCUPATION_TYPE               object \n",
      " 29   CNT_FAM_MEMBERS               float64\n",
      " 30   REGION_RATING_CLIENT          int64  \n",
      " 31   REGION_RATING_CLIENT_W_CITY   int64  \n",
      " 32   WEEKDAY_APPR_PROCESS_START    object \n",
      " 33   HOUR_APPR_PROCESS_START       int64  \n",
      " 34   REG_REGION_NOT_LIVE_REGION    int64  \n",
      " 35   REG_REGION_NOT_WORK_REGION    int64  \n",
      " 36   LIVE_REGION_NOT_WORK_REGION   int64  \n",
      " 37   REG_CITY_NOT_LIVE_CITY        int64  \n",
      " 38   REG_CITY_NOT_WORK_CITY        int64  \n",
      " 39   LIVE_CITY_NOT_WORK_CITY       int64  \n",
      " 40   ORGANIZATION_TYPE             object \n",
      " 41   EXT_SOURCE_1                  float64\n",
      " 42   EXT_SOURCE_2                  float64\n",
      " 43   EXT_SOURCE_3                  float64\n",
      " 44   APARTMENTS_AVG                float64\n",
      " 45   BASEMENTAREA_AVG              float64\n",
      " 46   YEARS_BEGINEXPLUATATION_AVG   float64\n",
      " 47   YEARS_BUILD_AVG               float64\n",
      " 48   COMMONAREA_AVG                float64\n",
      " 49   ELEVATORS_AVG                 float64\n",
      " 50   ENTRANCES_AVG                 float64\n",
      " 51   FLOORSMAX_AVG                 float64\n",
      " 52   FLOORSMIN_AVG                 float64\n",
      " 53   LANDAREA_AVG                  float64\n",
      " 54   LIVINGAPARTMENTS_AVG          float64\n",
      " 55   LIVINGAREA_AVG                float64\n",
      " 56   NONLIVINGAPARTMENTS_AVG       float64\n",
      " 57   NONLIVINGAREA_AVG             float64\n",
      " 58   APARTMENTS_MODE               float64\n",
      " 59   BASEMENTAREA_MODE             float64\n",
      " 60   YEARS_BEGINEXPLUATATION_MODE  float64\n",
      " 61   YEARS_BUILD_MODE              float64\n",
      " 62   COMMONAREA_MODE               float64\n",
      " 63   ELEVATORS_MODE                float64\n",
      " 64   ENTRANCES_MODE                float64\n",
      " 65   FLOORSMAX_MODE                float64\n",
      " 66   FLOORSMIN_MODE                float64\n",
      " 67   LANDAREA_MODE                 float64\n",
      " 68   LIVINGAPARTMENTS_MODE         float64\n",
      " 69   LIVINGAREA_MODE               float64\n",
      " 70   NONLIVINGAPARTMENTS_MODE      float64\n",
      " 71   NONLIVINGAREA_MODE            float64\n",
      " 72   APARTMENTS_MEDI               float64\n",
      " 73   BASEMENTAREA_MEDI             float64\n",
      " 74   YEARS_BEGINEXPLUATATION_MEDI  float64\n",
      " 75   YEARS_BUILD_MEDI              float64\n",
      " 76   COMMONAREA_MEDI               float64\n",
      " 77   ELEVATORS_MEDI                float64\n",
      " 78   ENTRANCES_MEDI                float64\n",
      " 79   FLOORSMAX_MEDI                float64\n",
      " 80   FLOORSMIN_MEDI                float64\n",
      " 81   LANDAREA_MEDI                 float64\n",
      " 82   LIVINGAPARTMENTS_MEDI         float64\n",
      " 83   LIVINGAREA_MEDI               float64\n",
      " 84   NONLIVINGAPARTMENTS_MEDI      float64\n",
      " 85   NONLIVINGAREA_MEDI            float64\n",
      " 86   FONDKAPREMONT_MODE            object \n",
      " 87   HOUSETYPE_MODE                object \n",
      " 88   TOTALAREA_MODE                float64\n",
      " 89   WALLSMATERIAL_MODE            object \n",
      " 90   EMERGENCYSTATE_MODE           object \n",
      " 91   OBS_30_CNT_SOCIAL_CIRCLE      float64\n",
      " 92   DEF_30_CNT_SOCIAL_CIRCLE      float64\n",
      " 93   OBS_60_CNT_SOCIAL_CIRCLE      float64\n",
      " 94   DEF_60_CNT_SOCIAL_CIRCLE      float64\n",
      " 95   DAYS_LAST_PHONE_CHANGE        float64\n",
      " 96   FLAG_DOCUMENT_2               int64  \n",
      " 97   FLAG_DOCUMENT_3               int64  \n",
      " 98   FLAG_DOCUMENT_4               int64  \n",
      " 99   FLAG_DOCUMENT_5               int64  \n",
      " 100  FLAG_DOCUMENT_6               int64  \n",
      " 101  FLAG_DOCUMENT_7               int64  \n",
      " 102  FLAG_DOCUMENT_8               int64  \n",
      " 103  FLAG_DOCUMENT_9               int64  \n",
      " 104  FLAG_DOCUMENT_10              int64  \n",
      " 105  FLAG_DOCUMENT_11              int64  \n",
      " 106  FLAG_DOCUMENT_12              int64  \n",
      " 107  FLAG_DOCUMENT_13              int64  \n",
      " 108  FLAG_DOCUMENT_14              int64  \n",
      " 109  FLAG_DOCUMENT_15              int64  \n",
      " 110  FLAG_DOCUMENT_16              int64  \n",
      " 111  FLAG_DOCUMENT_17              int64  \n",
      " 112  FLAG_DOCUMENT_18              int64  \n",
      " 113  FLAG_DOCUMENT_19              int64  \n",
      " 114  FLAG_DOCUMENT_20              int64  \n",
      " 115  FLAG_DOCUMENT_21              int64  \n",
      " 116  AMT_REQ_CREDIT_BUREAU_HOUR    float64\n",
      " 117  AMT_REQ_CREDIT_BUREAU_DAY     float64\n",
      " 118  AMT_REQ_CREDIT_BUREAU_WEEK    float64\n",
      " 119  AMT_REQ_CREDIT_BUREAU_MON     float64\n",
      " 120  AMT_REQ_CREDIT_BUREAU_QRT     float64\n",
      " 121  AMT_REQ_CREDIT_BUREAU_YEAR    float64\n",
      "dtypes: float64(65), int64(41), object(16)\n",
      "memory usage: 286.2+ MB\n"
     ]
    }
   ],
   "source": [
    "# check the column-wise info of the dataframe\n",
    "\n",
    "current_application_data.info(verbose= True)"
   ]
  },
  {
   "cell_type": "code",
   "execution_count": 12,
   "id": "82578978",
   "metadata": {},
   "outputs": [
    {
     "data": {
      "text/html": [
       "<div>\n",
       "<style scoped>\n",
       "    .dataframe tbody tr th:only-of-type {\n",
       "        vertical-align: middle;\n",
       "    }\n",
       "\n",
       "    .dataframe tbody tr th {\n",
       "        vertical-align: top;\n",
       "    }\n",
       "\n",
       "    .dataframe thead th {\n",
       "        text-align: right;\n",
       "    }\n",
       "</style>\n",
       "<table border=\"1\" class=\"dataframe\">\n",
       "  <thead>\n",
       "    <tr style=\"text-align: right;\">\n",
       "      <th></th>\n",
       "      <th>SK_ID_CURR</th>\n",
       "      <th>TARGET</th>\n",
       "      <th>CNT_CHILDREN</th>\n",
       "      <th>AMT_INCOME_TOTAL</th>\n",
       "      <th>AMT_CREDIT</th>\n",
       "      <th>AMT_ANNUITY</th>\n",
       "      <th>AMT_GOODS_PRICE</th>\n",
       "      <th>REGION_POPULATION_RELATIVE</th>\n",
       "      <th>DAYS_BIRTH</th>\n",
       "      <th>DAYS_EMPLOYED</th>\n",
       "      <th>...</th>\n",
       "      <th>FLAG_DOCUMENT_18</th>\n",
       "      <th>FLAG_DOCUMENT_19</th>\n",
       "      <th>FLAG_DOCUMENT_20</th>\n",
       "      <th>FLAG_DOCUMENT_21</th>\n",
       "      <th>AMT_REQ_CREDIT_BUREAU_HOUR</th>\n",
       "      <th>AMT_REQ_CREDIT_BUREAU_DAY</th>\n",
       "      <th>AMT_REQ_CREDIT_BUREAU_WEEK</th>\n",
       "      <th>AMT_REQ_CREDIT_BUREAU_MON</th>\n",
       "      <th>AMT_REQ_CREDIT_BUREAU_QRT</th>\n",
       "      <th>AMT_REQ_CREDIT_BUREAU_YEAR</th>\n",
       "    </tr>\n",
       "  </thead>\n",
       "  <tbody>\n",
       "    <tr>\n",
       "      <th>count</th>\n",
       "      <td>307511.000000</td>\n",
       "      <td>307511.000000</td>\n",
       "      <td>307511.000000</td>\n",
       "      <td>3.075110e+05</td>\n",
       "      <td>3.075110e+05</td>\n",
       "      <td>307499.000000</td>\n",
       "      <td>3.072330e+05</td>\n",
       "      <td>307511.000000</td>\n",
       "      <td>307511.000000</td>\n",
       "      <td>307511.000000</td>\n",
       "      <td>...</td>\n",
       "      <td>307511.000000</td>\n",
       "      <td>307511.000000</td>\n",
       "      <td>307511.000000</td>\n",
       "      <td>307511.000000</td>\n",
       "      <td>265992.000000</td>\n",
       "      <td>265992.000000</td>\n",
       "      <td>265992.000000</td>\n",
       "      <td>265992.000000</td>\n",
       "      <td>265992.000000</td>\n",
       "      <td>265992.000000</td>\n",
       "    </tr>\n",
       "    <tr>\n",
       "      <th>mean</th>\n",
       "      <td>278180.518577</td>\n",
       "      <td>0.080729</td>\n",
       "      <td>0.417052</td>\n",
       "      <td>1.687979e+05</td>\n",
       "      <td>5.990260e+05</td>\n",
       "      <td>27108.573909</td>\n",
       "      <td>5.383962e+05</td>\n",
       "      <td>0.020868</td>\n",
       "      <td>-16036.995067</td>\n",
       "      <td>63815.045904</td>\n",
       "      <td>...</td>\n",
       "      <td>0.008130</td>\n",
       "      <td>0.000595</td>\n",
       "      <td>0.000507</td>\n",
       "      <td>0.000335</td>\n",
       "      <td>0.006402</td>\n",
       "      <td>0.007000</td>\n",
       "      <td>0.034362</td>\n",
       "      <td>0.267395</td>\n",
       "      <td>0.265474</td>\n",
       "      <td>1.899974</td>\n",
       "    </tr>\n",
       "    <tr>\n",
       "      <th>std</th>\n",
       "      <td>102790.175348</td>\n",
       "      <td>0.272419</td>\n",
       "      <td>0.722121</td>\n",
       "      <td>2.371231e+05</td>\n",
       "      <td>4.024908e+05</td>\n",
       "      <td>14493.737315</td>\n",
       "      <td>3.694465e+05</td>\n",
       "      <td>0.013831</td>\n",
       "      <td>4363.988632</td>\n",
       "      <td>141275.766519</td>\n",
       "      <td>...</td>\n",
       "      <td>0.089798</td>\n",
       "      <td>0.024387</td>\n",
       "      <td>0.022518</td>\n",
       "      <td>0.018299</td>\n",
       "      <td>0.083849</td>\n",
       "      <td>0.110757</td>\n",
       "      <td>0.204685</td>\n",
       "      <td>0.916002</td>\n",
       "      <td>0.794056</td>\n",
       "      <td>1.869295</td>\n",
       "    </tr>\n",
       "    <tr>\n",
       "      <th>min</th>\n",
       "      <td>100002.000000</td>\n",
       "      <td>0.000000</td>\n",
       "      <td>0.000000</td>\n",
       "      <td>2.565000e+04</td>\n",
       "      <td>4.500000e+04</td>\n",
       "      <td>1615.500000</td>\n",
       "      <td>4.050000e+04</td>\n",
       "      <td>0.000290</td>\n",
       "      <td>-25229.000000</td>\n",
       "      <td>-17912.000000</td>\n",
       "      <td>...</td>\n",
       "      <td>0.000000</td>\n",
       "      <td>0.000000</td>\n",
       "      <td>0.000000</td>\n",
       "      <td>0.000000</td>\n",
       "      <td>0.000000</td>\n",
       "      <td>0.000000</td>\n",
       "      <td>0.000000</td>\n",
       "      <td>0.000000</td>\n",
       "      <td>0.000000</td>\n",
       "      <td>0.000000</td>\n",
       "    </tr>\n",
       "    <tr>\n",
       "      <th>25%</th>\n",
       "      <td>189145.500000</td>\n",
       "      <td>0.000000</td>\n",
       "      <td>0.000000</td>\n",
       "      <td>1.125000e+05</td>\n",
       "      <td>2.700000e+05</td>\n",
       "      <td>16524.000000</td>\n",
       "      <td>2.385000e+05</td>\n",
       "      <td>0.010006</td>\n",
       "      <td>-19682.000000</td>\n",
       "      <td>-2760.000000</td>\n",
       "      <td>...</td>\n",
       "      <td>0.000000</td>\n",
       "      <td>0.000000</td>\n",
       "      <td>0.000000</td>\n",
       "      <td>0.000000</td>\n",
       "      <td>0.000000</td>\n",
       "      <td>0.000000</td>\n",
       "      <td>0.000000</td>\n",
       "      <td>0.000000</td>\n",
       "      <td>0.000000</td>\n",
       "      <td>0.000000</td>\n",
       "    </tr>\n",
       "    <tr>\n",
       "      <th>50%</th>\n",
       "      <td>278202.000000</td>\n",
       "      <td>0.000000</td>\n",
       "      <td>0.000000</td>\n",
       "      <td>1.471500e+05</td>\n",
       "      <td>5.135310e+05</td>\n",
       "      <td>24903.000000</td>\n",
       "      <td>4.500000e+05</td>\n",
       "      <td>0.018850</td>\n",
       "      <td>-15750.000000</td>\n",
       "      <td>-1213.000000</td>\n",
       "      <td>...</td>\n",
       "      <td>0.000000</td>\n",
       "      <td>0.000000</td>\n",
       "      <td>0.000000</td>\n",
       "      <td>0.000000</td>\n",
       "      <td>0.000000</td>\n",
       "      <td>0.000000</td>\n",
       "      <td>0.000000</td>\n",
       "      <td>0.000000</td>\n",
       "      <td>0.000000</td>\n",
       "      <td>1.000000</td>\n",
       "    </tr>\n",
       "    <tr>\n",
       "      <th>75%</th>\n",
       "      <td>367142.500000</td>\n",
       "      <td>0.000000</td>\n",
       "      <td>1.000000</td>\n",
       "      <td>2.025000e+05</td>\n",
       "      <td>8.086500e+05</td>\n",
       "      <td>34596.000000</td>\n",
       "      <td>6.795000e+05</td>\n",
       "      <td>0.028663</td>\n",
       "      <td>-12413.000000</td>\n",
       "      <td>-289.000000</td>\n",
       "      <td>...</td>\n",
       "      <td>0.000000</td>\n",
       "      <td>0.000000</td>\n",
       "      <td>0.000000</td>\n",
       "      <td>0.000000</td>\n",
       "      <td>0.000000</td>\n",
       "      <td>0.000000</td>\n",
       "      <td>0.000000</td>\n",
       "      <td>0.000000</td>\n",
       "      <td>0.000000</td>\n",
       "      <td>3.000000</td>\n",
       "    </tr>\n",
       "    <tr>\n",
       "      <th>max</th>\n",
       "      <td>456255.000000</td>\n",
       "      <td>1.000000</td>\n",
       "      <td>19.000000</td>\n",
       "      <td>1.170000e+08</td>\n",
       "      <td>4.050000e+06</td>\n",
       "      <td>258025.500000</td>\n",
       "      <td>4.050000e+06</td>\n",
       "      <td>0.072508</td>\n",
       "      <td>-7489.000000</td>\n",
       "      <td>365243.000000</td>\n",
       "      <td>...</td>\n",
       "      <td>1.000000</td>\n",
       "      <td>1.000000</td>\n",
       "      <td>1.000000</td>\n",
       "      <td>1.000000</td>\n",
       "      <td>4.000000</td>\n",
       "      <td>9.000000</td>\n",
       "      <td>8.000000</td>\n",
       "      <td>27.000000</td>\n",
       "      <td>261.000000</td>\n",
       "      <td>25.000000</td>\n",
       "    </tr>\n",
       "  </tbody>\n",
       "</table>\n",
       "<p>8 rows × 106 columns</p>\n",
       "</div>"
      ],
      "text/plain": [
       "          SK_ID_CURR         TARGET   CNT_CHILDREN  AMT_INCOME_TOTAL  \\\n",
       "count  307511.000000  307511.000000  307511.000000      3.075110e+05   \n",
       "mean   278180.518577       0.080729       0.417052      1.687979e+05   \n",
       "std    102790.175348       0.272419       0.722121      2.371231e+05   \n",
       "min    100002.000000       0.000000       0.000000      2.565000e+04   \n",
       "25%    189145.500000       0.000000       0.000000      1.125000e+05   \n",
       "50%    278202.000000       0.000000       0.000000      1.471500e+05   \n",
       "75%    367142.500000       0.000000       1.000000      2.025000e+05   \n",
       "max    456255.000000       1.000000      19.000000      1.170000e+08   \n",
       "\n",
       "         AMT_CREDIT    AMT_ANNUITY  AMT_GOODS_PRICE  \\\n",
       "count  3.075110e+05  307499.000000     3.072330e+05   \n",
       "mean   5.990260e+05   27108.573909     5.383962e+05   \n",
       "std    4.024908e+05   14493.737315     3.694465e+05   \n",
       "min    4.500000e+04    1615.500000     4.050000e+04   \n",
       "25%    2.700000e+05   16524.000000     2.385000e+05   \n",
       "50%    5.135310e+05   24903.000000     4.500000e+05   \n",
       "75%    8.086500e+05   34596.000000     6.795000e+05   \n",
       "max    4.050000e+06  258025.500000     4.050000e+06   \n",
       "\n",
       "       REGION_POPULATION_RELATIVE     DAYS_BIRTH  DAYS_EMPLOYED  ...  \\\n",
       "count               307511.000000  307511.000000  307511.000000  ...   \n",
       "mean                     0.020868  -16036.995067   63815.045904  ...   \n",
       "std                      0.013831    4363.988632  141275.766519  ...   \n",
       "min                      0.000290  -25229.000000  -17912.000000  ...   \n",
       "25%                      0.010006  -19682.000000   -2760.000000  ...   \n",
       "50%                      0.018850  -15750.000000   -1213.000000  ...   \n",
       "75%                      0.028663  -12413.000000    -289.000000  ...   \n",
       "max                      0.072508   -7489.000000  365243.000000  ...   \n",
       "\n",
       "       FLAG_DOCUMENT_18  FLAG_DOCUMENT_19  FLAG_DOCUMENT_20  FLAG_DOCUMENT_21  \\\n",
       "count     307511.000000     307511.000000     307511.000000     307511.000000   \n",
       "mean           0.008130          0.000595          0.000507          0.000335   \n",
       "std            0.089798          0.024387          0.022518          0.018299   \n",
       "min            0.000000          0.000000          0.000000          0.000000   \n",
       "25%            0.000000          0.000000          0.000000          0.000000   \n",
       "50%            0.000000          0.000000          0.000000          0.000000   \n",
       "75%            0.000000          0.000000          0.000000          0.000000   \n",
       "max            1.000000          1.000000          1.000000          1.000000   \n",
       "\n",
       "       AMT_REQ_CREDIT_BUREAU_HOUR  AMT_REQ_CREDIT_BUREAU_DAY  \\\n",
       "count               265992.000000              265992.000000   \n",
       "mean                     0.006402                   0.007000   \n",
       "std                      0.083849                   0.110757   \n",
       "min                      0.000000                   0.000000   \n",
       "25%                      0.000000                   0.000000   \n",
       "50%                      0.000000                   0.000000   \n",
       "75%                      0.000000                   0.000000   \n",
       "max                      4.000000                   9.000000   \n",
       "\n",
       "       AMT_REQ_CREDIT_BUREAU_WEEK  AMT_REQ_CREDIT_BUREAU_MON  \\\n",
       "count               265992.000000              265992.000000   \n",
       "mean                     0.034362                   0.267395   \n",
       "std                      0.204685                   0.916002   \n",
       "min                      0.000000                   0.000000   \n",
       "25%                      0.000000                   0.000000   \n",
       "50%                      0.000000                   0.000000   \n",
       "75%                      0.000000                   0.000000   \n",
       "max                      8.000000                  27.000000   \n",
       "\n",
       "       AMT_REQ_CREDIT_BUREAU_QRT  AMT_REQ_CREDIT_BUREAU_YEAR  \n",
       "count              265992.000000               265992.000000  \n",
       "mean                    0.265474                    1.899974  \n",
       "std                     0.794056                    1.869295  \n",
       "min                     0.000000                    0.000000  \n",
       "25%                     0.000000                    0.000000  \n",
       "50%                     0.000000                    1.000000  \n",
       "75%                     0.000000                    3.000000  \n",
       "max                   261.000000                   25.000000  \n",
       "\n",
       "[8 rows x 106 columns]"
      ]
     },
     "execution_count": 12,
     "metadata": {},
     "output_type": "execute_result"
    }
   ],
   "source": [
    "# Check the summary for the numeric columns \n",
    "\n",
    "current_application_data.describe()"
   ]
  },
  {
   "cell_type": "code",
   "execution_count": 13,
   "id": "93b9011a",
   "metadata": {},
   "outputs": [],
   "source": [
    "# Finding columns containing null values\n",
    "\n",
    "null_columns = current_application_data.columns[current_application_data.isnull().any()]  \n",
    "emptycol=current_application_data.isnull().sum()\n",
    "emptycol=emptycol[emptycol.values>(0.3*len(emptycol))]"
   ]
  },
  {
   "cell_type": "code",
   "execution_count": 14,
   "id": "2a045029",
   "metadata": {},
   "outputs": [
    {
     "data": {
      "text/plain": [
       "67"
      ]
     },
     "execution_count": 14,
     "metadata": {},
     "output_type": "execute_result"
    }
   ],
   "source": [
    "#Calculating total columns having null values using len()\n",
    "\n",
    "len(null_columns)"
   ]
  },
  {
   "cell_type": "code",
   "execution_count": 15,
   "id": "f226a145",
   "metadata": {},
   "outputs": [
    {
     "data": {
      "text/plain": [
       "Index(['AMT_ANNUITY', 'AMT_GOODS_PRICE', 'NAME_TYPE_SUITE', 'OWN_CAR_AGE',\n",
       "       'OCCUPATION_TYPE', 'CNT_FAM_MEMBERS', 'EXT_SOURCE_1', 'EXT_SOURCE_2',\n",
       "       'EXT_SOURCE_3', 'APARTMENTS_AVG', 'BASEMENTAREA_AVG',\n",
       "       'YEARS_BEGINEXPLUATATION_AVG', 'YEARS_BUILD_AVG', 'COMMONAREA_AVG',\n",
       "       'ELEVATORS_AVG', 'ENTRANCES_AVG', 'FLOORSMAX_AVG', 'FLOORSMIN_AVG',\n",
       "       'LANDAREA_AVG', 'LIVINGAPARTMENTS_AVG', 'LIVINGAREA_AVG',\n",
       "       'NONLIVINGAPARTMENTS_AVG', 'NONLIVINGAREA_AVG', 'APARTMENTS_MODE',\n",
       "       'BASEMENTAREA_MODE', 'YEARS_BEGINEXPLUATATION_MODE', 'YEARS_BUILD_MODE',\n",
       "       'COMMONAREA_MODE', 'ELEVATORS_MODE', 'ENTRANCES_MODE', 'FLOORSMAX_MODE',\n",
       "       'FLOORSMIN_MODE', 'LANDAREA_MODE', 'LIVINGAPARTMENTS_MODE',\n",
       "       'LIVINGAREA_MODE', 'NONLIVINGAPARTMENTS_MODE', 'NONLIVINGAREA_MODE',\n",
       "       'APARTMENTS_MEDI', 'BASEMENTAREA_MEDI', 'YEARS_BEGINEXPLUATATION_MEDI',\n",
       "       'YEARS_BUILD_MEDI', 'COMMONAREA_MEDI', 'ELEVATORS_MEDI',\n",
       "       'ENTRANCES_MEDI', 'FLOORSMAX_MEDI', 'FLOORSMIN_MEDI', 'LANDAREA_MEDI',\n",
       "       'LIVINGAPARTMENTS_MEDI', 'LIVINGAREA_MEDI', 'NONLIVINGAPARTMENTS_MEDI',\n",
       "       'NONLIVINGAREA_MEDI', 'FONDKAPREMONT_MODE', 'HOUSETYPE_MODE',\n",
       "       'TOTALAREA_MODE', 'WALLSMATERIAL_MODE', 'EMERGENCYSTATE_MODE',\n",
       "       'OBS_30_CNT_SOCIAL_CIRCLE', 'DEF_30_CNT_SOCIAL_CIRCLE',\n",
       "       'OBS_60_CNT_SOCIAL_CIRCLE', 'DEF_60_CNT_SOCIAL_CIRCLE',\n",
       "       'DAYS_LAST_PHONE_CHANGE', 'AMT_REQ_CREDIT_BUREAU_HOUR',\n",
       "       'AMT_REQ_CREDIT_BUREAU_DAY', 'AMT_REQ_CREDIT_BUREAU_WEEK',\n",
       "       'AMT_REQ_CREDIT_BUREAU_MON', 'AMT_REQ_CREDIT_BUREAU_QRT',\n",
       "       'AMT_REQ_CREDIT_BUREAU_YEAR'],\n",
       "      dtype='object')"
      ]
     },
     "execution_count": 15,
     "metadata": {},
     "output_type": "execute_result"
    }
   ],
   "source": [
    "#Printing name of columns having null values\n",
    "null_columns"
   ]
  },
  {
   "cell_type": "code",
   "execution_count": 16,
   "id": "f6f10feb",
   "metadata": {},
   "outputs": [],
   "source": [
    "#calculating percentage of null value\n",
    "null_value_percent = (current_application_data[null_columns].isnull().sum()*100/len(current_application_data)).sort_values()"
   ]
  },
  {
   "cell_type": "code",
   "execution_count": 17,
   "id": "42229864",
   "metadata": {},
   "outputs": [
    {
     "name": "stdout",
     "output_type": "stream",
     "text": [
      "DAYS_LAST_PHONE_CHANGE       0.000325\n",
      "CNT_FAM_MEMBERS              0.000650\n",
      "AMT_ANNUITY                  0.003902\n",
      "AMT_GOODS_PRICE              0.090403\n",
      "EXT_SOURCE_2                 0.214626\n",
      "                              ...    \n",
      "NONLIVINGAPARTMENTS_MODE    69.432963\n",
      "NONLIVINGAPARTMENTS_AVG     69.432963\n",
      "COMMONAREA_MODE             69.872297\n",
      "COMMONAREA_AVG              69.872297\n",
      "COMMONAREA_MEDI             69.872297\n",
      "Length: 67, dtype: float64\n"
     ]
    }
   ],
   "source": [
    "print(null_value_percent)"
   ]
  },
  {
   "cell_type": "code",
   "execution_count": 19,
   "id": "97f5632e",
   "metadata": {},
   "outputs": [],
   "source": [
    "#Finding the columns having more than 45% null values\n",
    "missing_column_45= null_value_percent[null_value_percent>45].sort_values(ascending=False)"
   ]
  },
  {
   "cell_type": "code",
   "execution_count": 20,
   "id": "8be48492",
   "metadata": {},
   "outputs": [
    {
     "data": {
      "text/plain": [
       "COMMONAREA_MEDI                 69.872297\n",
       "COMMONAREA_AVG                  69.872297\n",
       "COMMONAREA_MODE                 69.872297\n",
       "NONLIVINGAPARTMENTS_AVG         69.432963\n",
       "NONLIVINGAPARTMENTS_MODE        69.432963\n",
       "NONLIVINGAPARTMENTS_MEDI        69.432963\n",
       "FONDKAPREMONT_MODE              68.386172\n",
       "LIVINGAPARTMENTS_AVG            68.354953\n",
       "LIVINGAPARTMENTS_MEDI           68.354953\n",
       "LIVINGAPARTMENTS_MODE           68.354953\n",
       "FLOORSMIN_MODE                  67.848630\n",
       "FLOORSMIN_MEDI                  67.848630\n",
       "FLOORSMIN_AVG                   67.848630\n",
       "YEARS_BUILD_AVG                 66.497784\n",
       "YEARS_BUILD_MEDI                66.497784\n",
       "YEARS_BUILD_MODE                66.497784\n",
       "OWN_CAR_AGE                     65.990810\n",
       "LANDAREA_AVG                    59.376738\n",
       "LANDAREA_MEDI                   59.376738\n",
       "LANDAREA_MODE                   59.376738\n",
       "BASEMENTAREA_MODE               58.515956\n",
       "BASEMENTAREA_AVG                58.515956\n",
       "BASEMENTAREA_MEDI               58.515956\n",
       "EXT_SOURCE_1                    56.381073\n",
       "NONLIVINGAREA_AVG               55.179164\n",
       "NONLIVINGAREA_MODE              55.179164\n",
       "NONLIVINGAREA_MEDI              55.179164\n",
       "ELEVATORS_MODE                  53.295980\n",
       "ELEVATORS_MEDI                  53.295980\n",
       "ELEVATORS_AVG                   53.295980\n",
       "WALLSMATERIAL_MODE              50.840783\n",
       "APARTMENTS_MEDI                 50.749729\n",
       "APARTMENTS_MODE                 50.749729\n",
       "APARTMENTS_AVG                  50.749729\n",
       "ENTRANCES_MEDI                  50.348768\n",
       "ENTRANCES_AVG                   50.348768\n",
       "ENTRANCES_MODE                  50.348768\n",
       "LIVINGAREA_MEDI                 50.193326\n",
       "LIVINGAREA_MODE                 50.193326\n",
       "LIVINGAREA_AVG                  50.193326\n",
       "HOUSETYPE_MODE                  50.176091\n",
       "FLOORSMAX_MODE                  49.760822\n",
       "FLOORSMAX_MEDI                  49.760822\n",
       "FLOORSMAX_AVG                   49.760822\n",
       "YEARS_BEGINEXPLUATATION_AVG     48.781019\n",
       "YEARS_BEGINEXPLUATATION_MEDI    48.781019\n",
       "YEARS_BEGINEXPLUATATION_MODE    48.781019\n",
       "TOTALAREA_MODE                  48.268517\n",
       "EMERGENCYSTATE_MODE             47.398304\n",
       "dtype: float64"
      ]
     },
     "execution_count": 20,
     "metadata": {},
     "output_type": "execute_result"
    }
   ],
   "source": [
    "missing_column_45"
   ]
  },
  {
   "cell_type": "markdown",
   "id": "7582c920",
   "metadata": {},
   "source": [
    "Inference : There are total 49 cloumns containing more than 45% null values. These columns can be removed as it it not feasible to impute missing values for these cloumns."
   ]
  },
  {
   "cell_type": "code",
   "execution_count": 18,
   "id": "aab49e42",
   "metadata": {},
   "outputs": [
    {
     "data": {
      "text/plain": [
       "Index(['YEARS_BUILD_MODE', 'YEARS_BUILD_MEDI', 'YEARS_BEGINEXPLUATATION_MODE',\n",
       "       'YEARS_BEGINEXPLUATATION_MEDI', 'WALLSMATERIAL_MODE', 'TOTALAREA_MODE',\n",
       "       'OBS_60_CNT_SOCIAL_CIRCLE', 'OBS_30_CNT_SOCIAL_CIRCLE',\n",
       "       'NONLIVINGAREA_MODE', 'NONLIVINGAREA_MEDI', 'NONLIVINGAREA_AVG',\n",
       "       'NONLIVINGAPARTMENTS_MODE', 'NONLIVINGAPARTMENTS_MEDI',\n",
       "       'NONLIVINGAPARTMENTS_AVG', 'LIVINGAREA_MODE', 'LIVINGAREA_MEDI',\n",
       "       'LIVINGAREA_AVG', 'LIVINGAPARTMENTS_MODE', 'LIVINGAPARTMENTS_MEDI',\n",
       "       'LIVINGAPARTMENTS_AVG', 'LANDAREA_MODE', 'LANDAREA_MEDI',\n",
       "       'LANDAREA_AVG', 'HOUSETYPE_MODE', 'FONDKAPREMONT_MODE',\n",
       "       'FLOORSMIN_MODE', 'FLOORSMIN_MEDI', 'FLOORSMAX_MODE', 'FLOORSMAX_MEDI',\n",
       "       'ENTRANCES_MODE', 'ENTRANCES_MEDI', 'EMERGENCYSTATE_MODE',\n",
       "       'ELEVATORS_MODE', 'ELEVATORS_MEDI', 'DEF_60_CNT_SOCIAL_CIRCLE',\n",
       "       'DEF_30_CNT_SOCIAL_CIRCLE', 'DAYS_LAST_PHONE_CHANGE', 'COMMONAREA_MODE',\n",
       "       'COMMONAREA_MEDI', 'BASEMENTAREA_MODE', 'BASEMENTAREA_MEDI',\n",
       "       'APARTMENTS_MODE', 'APARTMENTS_MEDI', 'AMT_REQ_CREDIT_BUREAU_YEAR',\n",
       "       'AMT_REQ_CREDIT_BUREAU_WEEK', 'AMT_REQ_CREDIT_BUREAU_QRT',\n",
       "       'AMT_REQ_CREDIT_BUREAU_MON', 'AMT_REQ_CREDIT_BUREAU_HOUR',\n",
       "       'AMT_REQ_CREDIT_BUREAU_DAY'],\n",
       "      dtype='object')"
      ]
     },
     "execution_count": 18,
     "metadata": {},
     "output_type": "execute_result"
    }
   ],
   "source": [
    "missing_column_45"
   ]
  },
  {
   "cell_type": "code",
   "execution_count": 25,
   "id": "639b1cc0",
   "metadata": {},
   "outputs": [
    {
     "name": "stdout",
     "output_type": "stream",
     "text": [
      "64\n"
     ]
    }
   ],
   "source": [
    "#shape before removing the columns\n",
    "emptycol=current_application_data.isnull().sum()\n",
    "emptycol=emptycol[emptycol.values>(0.3*len(emptycol))]\n",
    "print(len(emptycol))"
   ]
  },
  {
   "cell_type": "code",
   "execution_count": null,
   "id": "b3265433",
   "metadata": {},
   "outputs": [],
   "source": [
    "# Removing the column containg more than 45% of null value"
   ]
  },
  {
   "cell_type": "code",
   "execution_count": null,
   "id": "a38b1e49",
   "metadata": {},
   "outputs": [],
   "source": [
    "#shape after removing the columns"
   ]
  },
  {
   "cell_type": "markdown",
   "id": "d44193d8",
   "metadata": {},
   "source": [
    "Now we are left with 73 columns. We'll analyse the each column containing the percentange of null value less than 15%."
   ]
  },
  {
   "cell_type": "code",
   "execution_count": null,
   "id": "91a3ec8a",
   "metadata": {},
   "outputs": [],
   "source": [
    "# Finding the columns containing missing values less than 15%"
   ]
  },
  {
   "cell_type": "code",
   "execution_count": null,
   "id": "52c96a47",
   "metadata": {},
   "outputs": [],
   "source": [
    "#Analyse AMT_REQ_CREDIT_BUREAU_WEEK column in the dataframe for missing values"
   ]
  },
  {
   "cell_type": "code",
   "execution_count": 14,
   "id": "b934ca17",
   "metadata": {},
   "outputs": [],
   "source": [
    "#null value in AMT_REQ_CREDIT_BUREAU_WEEK"
   ]
  },
  {
   "cell_type": "markdown",
   "id": "6bbc41a8",
   "metadata": {},
   "source": [
    "### Inference : "
   ]
  },
  {
   "cell_type": "markdown",
   "id": "2c414bbf",
   "metadata": {},
   "source": [
    "AMT_REQ_CREDIT_BUREAU_WEEK column has 13.50% null values. These null values can be imputed with the median value i.e 0"
   ]
  },
  {
   "cell_type": "code",
   "execution_count": null,
   "id": "fe35b9aa",
   "metadata": {},
   "outputs": [],
   "source": [
    "#Fill Null values in AMT_REQ_CREDIT_BUREAU_WEEK with 0"
   ]
  },
  {
   "cell_type": "code",
   "execution_count": null,
   "id": "38ed26f5",
   "metadata": {},
   "outputs": [],
   "source": [
    "#null value in AMT_REQ_CREDIT_BUREAU_WEEK"
   ]
  },
  {
   "cell_type": "code",
   "execution_count": 15,
   "id": "491d0ede",
   "metadata": {},
   "outputs": [],
   "source": [
    "#null value before removing for AMT_REQ_CREDIT_BUREAU_MON"
   ]
  },
  {
   "cell_type": "code",
   "execution_count": null,
   "id": "b0aa81c2",
   "metadata": {},
   "outputs": [],
   "source": [
    "#Analyse AMT_REQ_CREDIT_BUREAU_MON column in the dataframe for missing values"
   ]
  },
  {
   "cell_type": "markdown",
   "id": "0808e97f",
   "metadata": {},
   "source": [
    "Inference :AMT_REQ_CREDIT_BUREAU_MON column has 13.50% null values. These null values can be imputed with the median value i.e 0\n"
   ]
  },
  {
   "cell_type": "code",
   "execution_count": null,
   "id": "5dadd560",
   "metadata": {},
   "outputs": [],
   "source": [
    "#null value after removing for AMT_REQ_CREDIT_BUREAU_MON"
   ]
  },
  {
   "cell_type": "code",
   "execution_count": null,
   "id": "37f2dbb0",
   "metadata": {},
   "outputs": [],
   "source": [
    "#null value before removing for AMT_REQ_CREDIT_BUREAU_DAY"
   ]
  },
  {
   "cell_type": "code",
   "execution_count": null,
   "id": "dd4c1ce1",
   "metadata": {},
   "outputs": [],
   "source": [
    "#Analyse AMT_REQ_CREDIT_BUREAU_DAY column in the dataframe for missing values"
   ]
  },
  {
   "cell_type": "markdown",
   "id": "9a69ba54",
   "metadata": {},
   "source": [
    "Inference :AMT_REQ_CREDIT_BUREAU_DAY column has 13.50% null values. These null values can be imputed with the median value i.e 0"
   ]
  },
  {
   "cell_type": "code",
   "execution_count": null,
   "id": "6a6420a0",
   "metadata": {},
   "outputs": [],
   "source": [
    "#Fill Null values in AMT_REQ_CREDIT_BUREAU_DAY with 0"
   ]
  },
  {
   "cell_type": "code",
   "execution_count": null,
   "id": "76bf8c98",
   "metadata": {},
   "outputs": [],
   "source": [
    "#null value after removing for AMT_REQ_CREDIT_BUREAU_DAY"
   ]
  },
  {
   "cell_type": "code",
   "execution_count": null,
   "id": "59d94daa",
   "metadata": {},
   "outputs": [],
   "source": [
    "#null value before removing for AMT_REQ_CREDIT_BUREAU_HOUR"
   ]
  },
  {
   "cell_type": "code",
   "execution_count": null,
   "id": "598d1992",
   "metadata": {},
   "outputs": [],
   "source": [
    "#Analyse AMT_REQ_CREDIT_BUREAU_HOUR column in the dataframe for missing values\n"
   ]
  },
  {
   "cell_type": "markdown",
   "id": "d9da8fc1",
   "metadata": {},
   "source": [
    "Inference : AMT_REQ_CREDIT_BUREAU_HOUR column has 13.50% null values. These null values can be imputed with the median value i.e 0 as median and 50% quantile is nearly in the same range."
   ]
  },
  {
   "cell_type": "code",
   "execution_count": null,
   "id": "cda70843",
   "metadata": {},
   "outputs": [],
   "source": [
    "#Fill Null values in AMT_REQ_CREDIT_BUREAU_HOUR with 0"
   ]
  },
  {
   "cell_type": "code",
   "execution_count": null,
   "id": "8315775d",
   "metadata": {},
   "outputs": [],
   "source": [
    "#null value after removing for AMT_REQ_CREDIT_BUREAU_HOUR"
   ]
  },
  {
   "cell_type": "code",
   "execution_count": null,
   "id": "c5d13c73",
   "metadata": {},
   "outputs": [],
   "source": [
    "#null value before removing for AMT_REQ_CREDIT_BUREAU_QRT"
   ]
  },
  {
   "cell_type": "code",
   "execution_count": null,
   "id": "78a2ff67",
   "metadata": {},
   "outputs": [],
   "source": [
    "#Analyse AMT_REQ_CREDIT_BUREAU_QRT column in the dataframe for missing values"
   ]
  },
  {
   "cell_type": "markdown",
   "id": "ce17c013",
   "metadata": {},
   "source": [
    "Inference : AMT_REQ_CREDIT_BUREAU_QRT column has 13.50% null values. These null values can be imputed with the median value i.e 0 as median and 50% quantile is nearly in the same range"
   ]
  },
  {
   "cell_type": "code",
   "execution_count": null,
   "id": "14635dad",
   "metadata": {},
   "outputs": [],
   "source": [
    "#Fill Null values in AMT_REQ_CREDIT_BUREAU_QRT with 0"
   ]
  },
  {
   "cell_type": "code",
   "execution_count": null,
   "id": "e5e4914f",
   "metadata": {},
   "outputs": [],
   "source": [
    "#null value after removing for AMT_REQ_CREDIT_BUREAU_QRT"
   ]
  },
  {
   "cell_type": "code",
   "execution_count": null,
   "id": "c247cbd5",
   "metadata": {},
   "outputs": [],
   "source": [
    "#null value before removing for AMT_REQ_CREDIT_BUREAU_YEAR"
   ]
  },
  {
   "cell_type": "code",
   "execution_count": null,
   "id": "abee5a5e",
   "metadata": {},
   "outputs": [],
   "source": [
    "#Analyse AMT_REQ_CREDIT_BUREAU_YEAR column in the dataframe for missing values"
   ]
  },
  {
   "cell_type": "markdown",
   "id": "f72cb299",
   "metadata": {},
   "source": [
    "Inference : AMT_REQ_CREDIT_BUREAU_YEAR column has 13.50% null values. These null values can be imputed with the median value i.e 1 as median and 50% quantile is nearly in the same range."
   ]
  },
  {
   "cell_type": "code",
   "execution_count": null,
   "id": "f5619393",
   "metadata": {},
   "outputs": [],
   "source": [
    "#Fill Null values in AMT_REQ_CREDIT_BUREAU_DAY with 1"
   ]
  },
  {
   "cell_type": "code",
   "execution_count": null,
   "id": "4e29024a",
   "metadata": {},
   "outputs": [],
   "source": [
    "#null value before after for AMT_REQ_CREDIT_BUREAU_YEAR"
   ]
  },
  {
   "cell_type": "markdown",
   "id": "030773a5",
   "metadata": {},
   "source": [
    "#### Checking Columns containing more than 15% null value"
   ]
  },
  {
   "cell_type": "code",
   "execution_count": null,
   "id": "28601d36",
   "metadata": {},
   "outputs": [],
   "source": [
    "#Finding columns having null values more than 15%"
   ]
  },
  {
   "cell_type": "markdown",
   "id": "19e4ec79",
   "metadata": {},
   "source": [
    "#### We can fill the null value for OCCUPATION_TYPE based on Income"
   ]
  },
  {
   "cell_type": "code",
   "execution_count": null,
   "id": "b04902a6",
   "metadata": {},
   "outputs": [],
   "source": [
    "#Finding number of null values in OCCUPATION_TYPE column"
   ]
  },
  {
   "cell_type": "markdown",
   "id": "586788f8",
   "metadata": {},
   "source": [
    "##### Inference : We are filling null value as per income . If the income is more than 1 Lakh then it is Managers else Laborers"
   ]
  },
  {
   "cell_type": "code",
   "execution_count": null,
   "id": "6ee7cebd",
   "metadata": {},
   "outputs": [],
   "source": [
    "#filling null value based on income"
   ]
  },
  {
   "cell_type": "markdown",
   "id": "6989e007",
   "metadata": {},
   "source": [
    "#### Inference : We can see the median value as 24903 so we are filling the null value."
   ]
  },
  {
   "cell_type": "code",
   "execution_count": null,
   "id": "c1afeaf3",
   "metadata": {},
   "outputs": [],
   "source": [
    "#null value after filling"
   ]
  },
  {
   "cell_type": "markdown",
   "id": "78a89d7e",
   "metadata": {},
   "source": [
    "#### Inference : We are filling the null value for good price as median as both median and 50% are nearly same."
   ]
  },
  {
   "cell_type": "code",
   "execution_count": null,
   "id": "d7662135",
   "metadata": {},
   "outputs": [],
   "source": [
    "# Fnd the number of null values in NAME_TYPE_SUITE column"
   ]
  },
  {
   "cell_type": "markdown",
   "id": "50750319",
   "metadata": {},
   "source": [
    "##### Inference : We have more numbers of Unaccompanied so we are filling the null values with it."
   ]
  },
  {
   "cell_type": "markdown",
   "id": "7775fb84",
   "metadata": {},
   "source": [
    "##### Inference : We can see the mean and 50% (median) is almost same [2] . We are filling null values with 2"
   ]
  },
  {
   "cell_type": "code",
   "execution_count": null,
   "id": "4e1c708f",
   "metadata": {},
   "outputs": [],
   "source": [
    "# Find the number of null values in CNT_FAM_MEMBERS column"
   ]
  },
  {
   "cell_type": "code",
   "execution_count": null,
   "id": "d7eac0da",
   "metadata": {},
   "outputs": [],
   "source": [
    "# Find the number of null values in DAYS_LAST_PHONE_CHANGE column"
   ]
  },
  {
   "cell_type": "markdown",
   "id": "18f88dab",
   "metadata": {},
   "source": [
    "### Removing Unwanted Columns"
   ]
  },
  {
   "cell_type": "code",
   "execution_count": null,
   "id": "b37641f0",
   "metadata": {},
   "outputs": [],
   "source": [
    "#Listing columns which are not required for the dateframe study"
   ]
  },
  {
   "cell_type": "code",
   "execution_count": null,
   "id": "dd25ae64",
   "metadata": {},
   "outputs": [],
   "source": [
    "\n",
    "#Removing unwanted columns from the current_application_data dataframe"
   ]
  },
  {
   "cell_type": "code",
   "execution_count": null,
   "id": "e3c91a2e",
   "metadata": {},
   "outputs": [],
   "source": [
    "\n",
    "#Checking shape of current_application_data dataframe after removing unwanted columns"
   ]
  },
  {
   "cell_type": "markdown",
   "id": "0863e1b1",
   "metadata": {},
   "source": [
    "Insights : 1. Removed columns having null value percentage more than 45% 2. Imputed the null values accordingly for columns containing less percentage of null values. 3. Removed unwanted data from data set."
   ]
  },
  {
   "cell_type": "markdown",
   "id": "13bbc471",
   "metadata": {},
   "source": [
    "### Checking the XNA value from table and fill it as per condition"
   ]
  },
  {
   "cell_type": "markdown",
   "id": "322300e9",
   "metadata": {},
   "source": [
    "##### Inference : Female is having the majority and only 4 rows are having NA values, we can update those columns with Gender 'F' as there will be no impact on the dataset."
   ]
  },
  {
   "cell_type": "code",
   "execution_count": null,
   "id": "6301af73",
   "metadata": {},
   "outputs": [],
   "source": [
    "# Replacing XNA with F"
   ]
  },
  {
   "cell_type": "code",
   "execution_count": null,
   "id": "79b1d5c3",
   "metadata": {},
   "outputs": [],
   "source": [
    "#Checking for organization type"
   ]
  },
  {
   "cell_type": "markdown",
   "id": "b159277a",
   "metadata": {},
   "source": [
    "Inference : XNA having 18% and we cant impute as per the condition.So we are removing it"
   ]
  },
  {
   "cell_type": "markdown",
   "id": "06f2f63d",
   "metadata": {},
   "source": [
    "### Converting Negative Values to Positive using absolute values"
   ]
  },
  {
   "cell_type": "markdown",
   "id": "bb14d8bf",
   "metadata": {},
   "source": [
    "##### Inference : We can see there are columns having negative values so changing it to absolute values."
   ]
  },
  {
   "cell_type": "markdown",
   "id": "45733419",
   "metadata": {},
   "source": [
    "### Outliers in current_application_data dataframe"
   ]
  },
  {
   "cell_type": "code",
   "execution_count": null,
   "id": "805c20f6",
   "metadata": {},
   "outputs": [],
   "source": [
    "#Analizing the outlier for AMT_CREDIT"
   ]
  },
  {
   "cell_type": "markdown",
   "id": "222bcd70",
   "metadata": {},
   "source": [
    "##### Inference : As per the plot there are applicants having credit loan amount more than 3 lakhs."
   ]
  },
  {
   "cell_type": "code",
   "execution_count": null,
   "id": "8b429ae9",
   "metadata": {},
   "outputs": [],
   "source": [
    "#Analizing the outlier for AMT_ANNUITY"
   ]
  },
  {
   "cell_type": "markdown",
   "id": "52cf3ff6",
   "metadata": {},
   "source": [
    "##### Inference : Most of the applicants having annuity amount from 15000 to 40000 but very few are having annuity 25 Lakhs"
   ]
  },
  {
   "cell_type": "code",
   "execution_count": null,
   "id": "444b18b1",
   "metadata": {},
   "outputs": [],
   "source": [
    "#Analizing the outlier for AMT_INCOME_TOTAL"
   ]
  },
  {
   "cell_type": "markdown",
   "id": "0000d38c",
   "metadata": {},
   "source": [
    "##### Inference : Most of the applicant having the income range of 1 lakhs to 3 lakhs but there is only one applicant having income around 11-12Cr so we can consider it as outlier."
   ]
  },
  {
   "cell_type": "code",
   "execution_count": null,
   "id": "05b9a8e9",
   "metadata": {},
   "outputs": [],
   "source": [
    "\n",
    "#Analizing the outlier for AMT_GOOD_PRICE"
   ]
  },
  {
   "cell_type": "markdown",
   "id": "6789dfba",
   "metadata": {},
   "source": [
    "##### Inference : Most of the applicants are having goods price between 2-7 Lakhs but some applicants having goods price of 40 Lakhs so it is considered as outliers."
   ]
  },
  {
   "cell_type": "markdown",
   "id": "ef5718d8",
   "metadata": {},
   "source": [
    "##### Inference : Majority of the applicants are having 2-3 Members but in some applicants there are having more than 5 Members and only 1 applicant is having 20 Members . So we are considering as outliers."
   ]
  },
  {
   "cell_type": "markdown",
   "id": "528602a0",
   "metadata": {},
   "source": [
    "### Grouping the column based on income, credit, annuity and goods cost"
   ]
  },
  {
   "cell_type": "code",
   "execution_count": null,
   "id": "e70da707",
   "metadata": {},
   "outputs": [],
   "source": [
    "#Grouping the income"
   ]
  },
  {
   "cell_type": "code",
   "execution_count": null,
   "id": "c3fc9ec6",
   "metadata": {},
   "outputs": [],
   "source": [
    "#checking the values of income group"
   ]
  },
  {
   "cell_type": "code",
   "execution_count": null,
   "id": "d288baed",
   "metadata": {},
   "outputs": [],
   "source": [
    "# grouping the credit"
   ]
  },
  {
   "cell_type": "code",
   "execution_count": null,
   "id": "2bde8aec",
   "metadata": {},
   "outputs": [],
   "source": [
    "#checking the values of current group"
   ]
  },
  {
   "cell_type": "code",
   "execution_count": null,
   "id": "9d6085d4",
   "metadata": {},
   "outputs": [],
   "source": [
    "#grouping the annuity"
   ]
  },
  {
   "cell_type": "code",
   "execution_count": null,
   "id": "30c23c42",
   "metadata": {},
   "outputs": [],
   "source": [
    "#checking the values of annuity group"
   ]
  },
  {
   "cell_type": "code",
   "execution_count": null,
   "id": "1b4751ee",
   "metadata": {},
   "outputs": [],
   "source": [
    "# grouping the good price"
   ]
  },
  {
   "cell_type": "markdown",
   "id": "76127095",
   "metadata": {},
   "source": [
    "### Target Imbalance"
   ]
  },
  {
   "cell_type": "markdown",
   "id": "3fa95f2b",
   "metadata": {},
   "source": [
    "##### Inference : 91.3% of applicants are not facing difficulties with payment."
   ]
  },
  {
   "cell_type": "code",
   "execution_count": null,
   "id": "05ccac3f",
   "metadata": {},
   "outputs": [],
   "source": [
    "#Calculating the impurity balance for targets"
   ]
  },
  {
   "cell_type": "markdown",
   "id": "522ef35e",
   "metadata": {},
   "source": [
    "### Plotting the data based on target (0 and 1)"
   ]
  },
  {
   "cell_type": "markdown",
   "id": "8416049d",
   "metadata": {},
   "source": [
    "### Univariant plot for target 0"
   ]
  },
  {
   "cell_type": "markdown",
   "id": "6fe79ad1",
   "metadata": {},
   "source": [
    "Insights : Female applicates count is more than male applicants count in income range 25k-125k whereas Male applicants count is more than female applicates count in income range 5 Lakhs and above"
   ]
  },
  {
   "cell_type": "markdown",
   "id": "9555af3e",
   "metadata": {},
   "source": [
    "We can see the similar count for Male and Female applicatants in income range 2.5L-2.7L"
   ]
  },
  {
   "cell_type": "markdown",
   "id": "98a43c9d",
   "metadata": {},
   "source": [
    "##### Insights : Female applicants count is more than male applicants for all credit amount ranges."
   ]
  },
  {
   "cell_type": "markdown",
   "id": "da3fb35e",
   "metadata": {},
   "source": [
    "Highest Credit Range : 10 Lakhs and Above"
   ]
  },
  {
   "cell_type": "markdown",
   "id": "e21147b9",
   "metadata": {},
   "source": [
    "##### Insights : Most of the male are having greated annuity than female for the range of 1.5 L to 2.25L . female applicants are having annuity amount more in the range of 0-1.5L and 2.25L-2.5L than male"
   ]
  },
  {
   "cell_type": "markdown",
   "id": "bca24215",
   "metadata": {},
   "source": [
    "Insights : Female Applicants are more than male applicants in all goods price amount range."
   ]
  },
  {
   "cell_type": "markdown",
   "id": "beaa6139",
   "metadata": {},
   "source": [
    "Highest Credit Range : 2 lakhs to 3 Lakhs"
   ]
  },
  {
   "cell_type": "markdown",
   "id": "cb828be8",
   "metadata": {},
   "source": [
    "##### Insights : Most of the people prefer for Cash Loans"
   ]
  },
  {
   "cell_type": "markdown",
   "id": "f20c22cb",
   "metadata": {},
   "source": [
    "Insights : Female applicants has more Cash loans type contract product than males."
   ]
  },
  {
   "cell_type": "markdown",
   "id": "e9c4e75e",
   "metadata": {},
   "source": [
    "##### Insights : More Female Applicants are in Working.Commercial Associates,State Servants,Pensioners and Maternity Leave whereas More male applicants are in Students and Businessman."
   ]
  },
  {
   "cell_type": "markdown",
   "id": "ff384a35",
   "metadata": {},
   "source": [
    "Insights : 1. Females applicant count is highest at Manager level. 2. Male labour applicant count is highest amoung all male applicants."
   ]
  },
  {
   "cell_type": "markdown",
   "id": "207a3169",
   "metadata": {},
   "source": [
    "Insights : More Female applicats than that of males in all name_type_suite."
   ]
  },
  {
   "cell_type": "markdown",
   "id": "14206bb1",
   "metadata": {},
   "source": [
    "###### Insights : 1. More loan applicants are from organization type business entity type 3 and self-employed. 2. Very less number of the loan applicants from industry type 8 and trade type 5"
   ]
  },
  {
   "cell_type": "markdown",
   "id": "69a501b3",
   "metadata": {},
   "source": [
    "Insights : 1. For target 0 most of the loan applicants are having occupation type Laborers. 2. For target 0 very few of the loan applicants are having occupation type IT staff"
   ]
  },
  {
   "cell_type": "markdown",
   "id": "cd993e13",
   "metadata": {},
   "source": [
    "### Univariant plot for target 1"
   ]
  },
  {
   "cell_type": "markdown",
   "id": "4ef521d7",
   "metadata": {},
   "source": [
    "##### Insights : There are more female applicant counts in amount income range 75k-100k than that of male applicants for target 1 2. There are equal male applicant and female counts in amount income range 225k-250k for target 1"
   ]
  },
  {
   "cell_type": "code",
   "execution_count": null,
   "id": "cdfae864",
   "metadata": {},
   "outputs": [],
   "source": []
  }
 ],
 "metadata": {
  "kernelspec": {
   "display_name": "Python 3 (ipykernel)",
   "language": "python",
   "name": "python3"
  },
  "language_info": {
   "codemirror_mode": {
    "name": "ipython",
    "version": 3
   },
   "file_extension": ".py",
   "mimetype": "text/x-python",
   "name": "python",
   "nbconvert_exporter": "python",
   "pygments_lexer": "ipython3",
   "version": "3.9.13"
  }
 },
 "nbformat": 4,
 "nbformat_minor": 5
}
